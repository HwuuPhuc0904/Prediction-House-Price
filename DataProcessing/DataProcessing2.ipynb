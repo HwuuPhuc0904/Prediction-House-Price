{
 "cells": [
  {
   "cell_type": "code",
   "execution_count": 1,
   "id": "0f3ba67c-c7f1-4827-a2a6-a48a3715a6bc",
   "metadata": {},
   "outputs": [],
   "source": [
    "import pandas as pd\n",
    "import os\n"
   ]
  },
  {
   "cell_type": "code",
   "execution_count": 3,
   "id": "1648d394-7042-4c8c-b300-cd94f4d8b595",
   "metadata": {},
   "outputs": [],
   "source": [
    "df_test = pd.read_csv(r\"C:\\Users\\longv\\Prediction-House-Price\\Data\\raw data\\test.csv\")"
   ]
  },
  {
   "cell_type": "code",
   "execution_count": 5,
   "id": "c0f877f1-9ab1-4ce7-a3e5-5ffd0c7126f1",
   "metadata": {},
   "outputs": [],
   "source": [
    "df_test = df_test.select_dtypes(include = ['float64', 'int64'])"
   ]
  },
  {
   "cell_type": "code",
   "execution_count": 8,
   "id": "663a844d-0b10-4e49-8831-22f05f008b15",
   "metadata": {},
   "outputs": [],
   "source": [
    "df_test = df_test.drop(columns = ['Id'])"
   ]
  },
  {
   "cell_type": "code",
   "execution_count": 9,
   "id": "0a2cf55c-1083-49ed-8d92-23b26c56b6ae",
   "metadata": {},
   "outputs": [],
   "source": [
    "df_test.to_csv(r\"C:\\Users\\longv\\Prediction-House-Price\\Data\\raw data\\test.csv\", index = False)"
   ]
  }
 ],
 "metadata": {
  "kernelspec": {
   "display_name": "Python 3 (ipykernel)",
   "language": "python",
   "name": "python3"
  },
  "language_info": {
   "codemirror_mode": {
    "name": "ipython",
    "version": 3
   },
   "file_extension": ".py",
   "mimetype": "text/x-python",
   "name": "python",
   "nbconvert_exporter": "python",
   "pygments_lexer": "ipython3",
   "version": "3.11.8"
  }
 },
 "nbformat": 4,
 "nbformat_minor": 5
}
