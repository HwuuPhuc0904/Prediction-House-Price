{
 "cells": [
  {
   "cell_type": "code",
   "execution_count": 48,
   "id": "fb8fae4b-a6b4-4f98-9aad-04467c6cb396",
   "metadata": {},
   "outputs": [],
   "source": [
    "import pandas as pd\n",
    "import numpy as np\n",
    "import seaborn as sns\n",
    "import matplotlib.pyplot as plt\n",
    "from scipy.stats import skew\n",
    "from scipy.stats import boxcox"
   ]
  },
  {
   "cell_type": "code",
   "execution_count": 49,
   "id": "ea406df6-8c98-4b33-9b2d-28a99f02fc21",
   "metadata": {},
   "outputs": [],
   "source": [
    "# Split Data into numerical data and object data\n",
    "\n",
    "def Split_DF(df):\n",
    "    numeric_features = df.dtypes[data.dtypes != \"object\"].index\n",
    "    object_features = df.dtypes[data.dtypes == \"object\"].index\n",
    "    return df[numeric_features], df[object_features]\n"
   ]
  },
  {
   "cell_type": "code",
   "execution_count": 50,
   "id": "bb50e91c-f9b6-441c-b25b-a6d18b593d5f",
   "metadata": {},
   "outputs": [],
   "source": [
    "#skew => boxcox tranformation ( for numeric data)\n",
    "def Handle_Skew(df):\n",
    "    skewed_feats = df.apply(lambda x : skew(x)).sort_values(ascending  = True)\n",
    "    high_skew = skewed_feats[abs(skewed_feats) > 0.5]\n",
    "    skewed_features = high_skew.index\n",
    "    for feat in skewed_features:\n",
    "        pre = np.array(df[feat])\n",
    "        pre = np.abs(pre + 1)\n",
    "        tran_, _ = boxcox(pre)\n",
    "        df[feat] = tran_\n",
    "    return df "
   ]
  },
  {
   "cell_type": "code",
   "execution_count": 51,
   "id": "5ad4d813-89d4-4c83-87f0-5ce06384fb5d",
   "metadata": {},
   "outputs": [],
   "source": [
    "# One hot encoding for object data\n",
    "\n",
    "def one_hot_encoding(df):\n",
    "    for col in df.columns:\n",
    "        dummy_columns = pd.get_dummies(df[col], prefix=col)\n",
    "        df = pd.concat([df, dummy_columns], axis=1)\n",
    "        df.drop(columns=[col], inplace=True)\n",
    "    col = df.columns\n",
    "    df[col] = df[col].astype(int)\n",
    "    return df\n"
   ]
  },
  {
   "cell_type": "code",
   "execution_count": 55,
   "id": "6c315458-cbea-4d16-88ba-2a6508eeb9fe",
   "metadata": {},
   "outputs": [],
   "source": [
    "def Processing_Data(df):\n",
    "    # ----- Handle Y ---------#\n",
    "    objective = df['SalePrice'] \n",
    "    log_objective = np.log(objective) # log transform \n",
    "\n",
    "    #---------Handle X (feature) boxcox transform and onehotencoding------------#\n",
    "    numeric_data, object_data = Split_DF(df)\n",
    "    numeric_data = Handle_Skew(numeric_data)\n",
    "    object_data = one_hot_encoding(object_data)\n",
    "    data = pd.concat([numeric_data, object_data], axis = 1)\n",
    "\n",
    "    #------Fill N/A = 0---------#\n",
    "    data = data.fillna(0)\n",
    "\n",
    "    # --------- Drop and add new feature -------#\n",
    "    data = data.drop(['Id', 'SalePrice'], axis=1)\n",
    "    data['TotalSF'] = (data['TotalBsmtSF'] \n",
    "                       + data['1stFlrSF'] \n",
    "                       + data['2ndFlrSF'])\n",
    "    data['YrBltAndRemod'] = data['YearBuilt'] +data['YearRemodAdd']\n",
    "    data['Total_sqr_footage'] = (data['BsmtFinSF1'] \n",
    "                                 + data['BsmtFinSF2'] \n",
    "                                 + data['1stFlrSF'] \n",
    "                                 + data['2ndFlrSF']\n",
    "                                )\n",
    "    data['Total_Bathrooms'] = (data['FullBath'] \n",
    "                               + (0.5 * data['HalfBath']) \n",
    "                               + data['BsmtFullBath'] \n",
    "                               + (0.5 * data['BsmtHalfBath'])\n",
    "                              )\n",
    "    data['Total_porch_sf'] = (data['OpenPorchSF'] \n",
    "                              + data['3SsnPorch'] \n",
    "                              + data['EnclosedPorch'] \n",
    "                              + data['ScreenPorch'] \n",
    "                              + data['WoodDeckSF']\n",
    "                             )\n",
    "    data['haspool'] = data['PoolArea'].apply(lambda x: 1 if x > 0 else 0)\n",
    "    data['has2ndfloor'] = data['2ndFlrSF'].apply(lambda x: 1 if x > 0 else 0)\n",
    "    data['hasgarage'] = data['GarageArea'].apply(lambda x: 1 if x > 0 else 0)\n",
    "    data['hasbsmt'] = data['TotalBsmtSF'].apply(lambda x: 1 if x > 0 else 0)\n",
    "    data['hasfireplace'] = data['Fireplaces'].apply(lambda x: 1 if x > 0 else 0) \n",
    "    return data , log_objective"
   ]
  },
  {
   "cell_type": "code",
   "execution_count": 56,
   "id": "370fb071-e8d7-4e7c-a7ef-63c0850971b4",
   "metadata": {},
   "outputs": [],
   "source": [
    "data = pd.read_csv('../raw data/RawData.csv')"
   ]
  },
  {
   "cell_type": "code",
   "execution_count": 57,
   "id": "fcfc4a6a-0e2d-41eb-8bad-de41e75bbe54",
   "metadata": {},
   "outputs": [
    {
     "name": "stderr",
     "output_type": "stream",
     "text": [
      "C:\\Users\\longv\\AppData\\Local\\Temp\\ipykernel_6368\\2159896541.py:10: SettingWithCopyWarning: \n",
      "A value is trying to be set on a copy of a slice from a DataFrame.\n",
      "Try using .loc[row_indexer,col_indexer] = value instead\n",
      "\n",
      "See the caveats in the documentation: https://pandas.pydata.org/pandas-docs/stable/user_guide/indexing.html#returning-a-view-versus-a-copy\n",
      "  df[feat] = tran_\n"
     ]
    }
   ],
   "source": [
    "X, y= Processing_Data(data)"
   ]
  },
  {
   "cell_type": "code",
   "execution_count": 58,
   "id": "96e02ac6-e521-475a-a370-a552be46ca22",
   "metadata": {},
   "outputs": [],
   "source": [
    "# Split Train - Test ( 80 - 20)\n",
    "from sklearn.model_selection import train_test_split\n",
    "X_train, X_test, y_train, y_test = train_test_split(df_, y_,test_size = .2, random_state = 0)"
   ]
  },
  {
   "cell_type": "code",
   "execution_count": 59,
   "id": "18740057-0bf0-4028-959b-95de218a4223",
   "metadata": {},
   "outputs": [],
   "source": [
    "X_train.to_csv(r\"C:\\Users\\longv\\Prediction-House-Price\\Data\\handled data\\X_train.csv\", index = False)\n",
    "X_test.to_csv(r\"C:\\Users\\longv\\Prediction-House-Price\\Data\\handled data\\X_test.csv\", index = False)\n",
    "y_train.to_csv(r\"C:\\Users\\longv\\Prediction-House-Price\\Data\\handled data\\y_train.csv\", index = False)\n",
    "y_test.to_csv(r\"C:\\Users\\longv\\Prediction-House-Price\\Data\\handled data\\y_test.csv\", index = False)\n"
   ]
  },
  {
   "cell_type": "code",
   "execution_count": null,
   "id": "afa81a1b-e51f-4673-83d0-3938b538c84a",
   "metadata": {},
   "outputs": [],
   "source": []
  }
 ],
 "metadata": {
  "kernelspec": {
   "display_name": "Python 3 (ipykernel)",
   "language": "python",
   "name": "python3"
  },
  "language_info": {
   "codemirror_mode": {
    "name": "ipython",
    "version": 3
   },
   "file_extension": ".py",
   "mimetype": "text/x-python",
   "name": "python",
   "nbconvert_exporter": "python",
   "pygments_lexer": "ipython3",
   "version": "3.11.8"
  }
 },
 "nbformat": 4,
 "nbformat_minor": 5
}
