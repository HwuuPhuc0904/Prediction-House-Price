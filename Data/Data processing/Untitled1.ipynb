{
 "cells": [
  {
   "cell_type": "code",
   "execution_count": 2,
   "id": "62ef3de3-d0e8-4b1d-b6c5-d74d1bd265fb",
   "metadata": {},
   "outputs": [
    {
     "name": "stdout",
     "output_type": "stream",
     "text": [
      "Mean Squared Error: 0.5269045095999386\n"
     ]
    }
   ],
   "source": [
    "import numpy as np\n",
    "from sklearn.datasets import fetch_california_housing\n",
    "from sklearn.model_selection import train_test_split\n",
    "from sklearn.linear_model import LinearRegression\n",
    "from sklearn.metrics import mean_squared_error\n",
    "\n",
    "# Load Boston Housing dataset\n",
    "boston = fetch_california_housing()\n",
    "X, y = boston.data, boston.target\n",
    "\n",
    "# Split data into labeled and unlabeled\n",
    "X_labeled, X_unlabeled, y_labeled, _ = train_test_split(X, y, test_size=0.8, random_state=42)\n",
    "\n",
    "# Train a regressor on labeled data\n",
    "regressor = LinearRegression()\n",
    "regressor.fit(X_labeled, y_labeled)\n",
    "\n",
    "# Predict on unlabeled data\n",
    "pseudo_labels = regressor.predict(X_unlabeled)\n",
    "\n",
    "# Combine labeled and pseudo-labeled data\n",
    "X_combined = np.vstack([X_labeled, X_unlabeled])\n",
    "y_combined = np.concatenate([y_labeled, pseudo_labels])\n",
    "\n",
    "# Retrain regressor on combined data\n",
    "regressor.fit(X_combined, y_combined)\n",
    "\n",
    "# Evaluate regressor\n",
    "y_pred = regressor.predict(X)\n",
    "mse = mean_squared_error(y, y_pred)\n",
    "print(\"Mean Squared Error:\", mse)\n"
   ]
  },
  {
   "cell_type": "code",
   "execution_count": 4,
   "id": "91719ffe-5bbe-4284-a732-6f06a5e1186a",
   "metadata": {},
   "outputs": [
    {
     "name": "stdout",
     "output_type": "stream",
     "text": [
      "Mean Squared Error: 0.5558915986952425\n"
     ]
    }
   ],
   "source": [
    "import numpy as np\n",
    "from sklearn.datasets import fetch_california_housing\n",
    "from sklearn.model_selection import train_test_split\n",
    "from sklearn.linear_model import LinearRegression\n",
    "from sklearn.metrics import mean_squared_error\n",
    "\n",
    "# Load Boston Housing dataset\n",
    "boston = fetch_california_housing()\n",
    "X, y = boston.data, boston.target\n",
    "\n",
    "# Split data into train and test sets\n",
    "X_train, X_test, y_train, y_test = train_test_split(X, y, test_size=0.2, random_state=42)\n",
    "\n",
    "# Train a linear regression model\n",
    "regressor = LinearRegression()\n",
    "regressor.fit(X_train, y_train)\n",
    "\n",
    "# Evaluate the model on test data\n",
    "y_pred = regressor.predict(X_test)\n",
    "mse = mean_squared_error(y_test, y_pred)\n",
    "print(\"Mean Squared Error:\", mse)\n"
   ]
  },
  {
   "cell_type": "code",
   "execution_count": null,
   "id": "d0fce709-050e-4bbf-90de-2b4b95b8bb85",
   "metadata": {},
   "outputs": [],
   "source": []
  }
 ],
 "metadata": {
  "kernelspec": {
   "display_name": "Python 3 (ipykernel)",
   "language": "python",
   "name": "python3"
  },
  "language_info": {
   "codemirror_mode": {
    "name": "ipython",
    "version": 3
   },
   "file_extension": ".py",
   "mimetype": "text/x-python",
   "name": "python",
   "nbconvert_exporter": "python",
   "pygments_lexer": "ipython3",
   "version": "3.11.8"
  }
 },
 "nbformat": 4,
 "nbformat_minor": 5
}
