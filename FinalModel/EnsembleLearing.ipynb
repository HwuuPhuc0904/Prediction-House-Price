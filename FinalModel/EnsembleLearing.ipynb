{
  "nbformat": 4,
  "nbformat_minor": 0,
  "metadata": {
    "colab": {
      "provenance": [],
      "gpuType": "T4"
    },
    "kernelspec": {
      "name": "python3",
      "display_name": "Python 3"
    },
    "language_info": {
      "name": "python"
    },
    "accelerator": "GPU"
  },
  "cells": [
    {
      "cell_type": "code",
      "execution_count": null,
      "metadata": {
        "colab": {
          "base_uri": "https://localhost:8080/"
        },
        "id": "2TkrnBeB37Kk",
        "outputId": "f1d80591-25fc-4ef8-cd0a-58cfc7083fd5"
      },
      "outputs": [
        {
          "output_type": "stream",
          "name": "stdout",
          "text": [
            "Collecting catboost\n",
            "  Downloading catboost-1.2.5-cp310-cp310-manylinux2014_x86_64.whl (98.2 MB)\n",
            "\u001b[2K     \u001b[90m━━━━━━━━━━━━━━━━━━━━━━━━━━━━━━━━━━━━━━━━\u001b[0m \u001b[32m98.2/98.2 MB\u001b[0m \u001b[31m8.9 MB/s\u001b[0m eta \u001b[36m0:00:00\u001b[0m\n",
            "\u001b[?25hRequirement already satisfied: graphviz in /usr/local/lib/python3.10/dist-packages (from catboost) (0.20.3)\n",
            "Requirement already satisfied: matplotlib in /usr/local/lib/python3.10/dist-packages (from catboost) (3.7.1)\n",
            "Requirement already satisfied: numpy>=1.16.0 in /usr/local/lib/python3.10/dist-packages (from catboost) (1.25.2)\n",
            "Requirement already satisfied: pandas>=0.24 in /usr/local/lib/python3.10/dist-packages (from catboost) (2.0.3)\n",
            "Requirement already satisfied: scipy in /usr/local/lib/python3.10/dist-packages (from catboost) (1.11.4)\n",
            "Requirement already satisfied: plotly in /usr/local/lib/python3.10/dist-packages (from catboost) (5.15.0)\n",
            "Requirement already satisfied: six in /usr/local/lib/python3.10/dist-packages (from catboost) (1.16.0)\n",
            "Requirement already satisfied: python-dateutil>=2.8.2 in /usr/local/lib/python3.10/dist-packages (from pandas>=0.24->catboost) (2.8.2)\n",
            "Requirement already satisfied: pytz>=2020.1 in /usr/local/lib/python3.10/dist-packages (from pandas>=0.24->catboost) (2023.4)\n",
            "Requirement already satisfied: tzdata>=2022.1 in /usr/local/lib/python3.10/dist-packages (from pandas>=0.24->catboost) (2024.1)\n",
            "Requirement already satisfied: contourpy>=1.0.1 in /usr/local/lib/python3.10/dist-packages (from matplotlib->catboost) (1.2.1)\n",
            "Requirement already satisfied: cycler>=0.10 in /usr/local/lib/python3.10/dist-packages (from matplotlib->catboost) (0.12.1)\n",
            "Requirement already satisfied: fonttools>=4.22.0 in /usr/local/lib/python3.10/dist-packages (from matplotlib->catboost) (4.51.0)\n",
            "Requirement already satisfied: kiwisolver>=1.0.1 in /usr/local/lib/python3.10/dist-packages (from matplotlib->catboost) (1.4.5)\n",
            "Requirement already satisfied: packaging>=20.0 in /usr/local/lib/python3.10/dist-packages (from matplotlib->catboost) (24.0)\n",
            "Requirement already satisfied: pillow>=6.2.0 in /usr/local/lib/python3.10/dist-packages (from matplotlib->catboost) (9.4.0)\n",
            "Requirement already satisfied: pyparsing>=2.3.1 in /usr/local/lib/python3.10/dist-packages (from matplotlib->catboost) (3.1.2)\n",
            "Requirement already satisfied: tenacity>=6.2.0 in /usr/local/lib/python3.10/dist-packages (from plotly->catboost) (8.3.0)\n",
            "Installing collected packages: catboost\n",
            "Successfully installed catboost-1.2.5\n"
          ]
        }
      ],
      "source": [
        "!pip install catboost -U"
      ]
    },
    {
      "cell_type": "code",
      "source": [
        "import pandas as pd\n",
        "import numpy as np"
      ],
      "metadata": {
        "id": "VVLKbXGG4LxF"
      },
      "execution_count": null,
      "outputs": []
    },
    {
      "cell_type": "code",
      "source": [
        "X_test = pd.read_csv('X_test.csv')\n",
        "X_train = pd.read_csv('X_train.csv')\n",
        "y_test = pd.read_csv('y_test.csv')\n",
        "y_train = pd.read_csv('y_train.csv')"
      ],
      "metadata": {
        "id": "cPR3wXZ74b2R"
      },
      "execution_count": null,
      "outputs": []
    },
    {
      "cell_type": "code",
      "source": [
        "from catboost import CatBoostRegressor\n",
        "from sklearn.metrics import mean_squared_error, r2_score\n",
        "from sklearn.model_selection import GridSearchCV"
      ],
      "metadata": {
        "id": "Lv1nPjUm4f7G"
      },
      "execution_count": null,
      "outputs": []
    },
    {
      "cell_type": "code",
      "source": [
        "\n",
        "model = CatBoostRegressor(task_type = 'GPU', verbose=False)\n",
        "\n",
        "param_grid = {\n",
        "    'learning_rate': [0.05, 0.1, 0.2],\n",
        "    'depth': [6, 8, 10],\n",
        "    'iterations': [100, 200, 300]\n",
        "}\n",
        "\n",
        "grid_search = GridSearchCV(estimator=model, param_grid=param_grid, cv=20, scoring='neg_mean_squared_error')\n",
        "\n",
        "\n",
        "grid_search.fit(X_train, y_train)\n",
        "\n",
        "best_model = grid_search.best_estimator_\n",
        "\n",
        "y_test_pred = best_model.predict(X_test)\n",
        "y_train_pred= best_model.predict(X_train)\n",
        "\n",
        "\n",
        "\n",
        "\n",
        "train_mse = mean_squared_error(y_train, y_train_pred)\n",
        "train_rmse = mean_squared_error(y_train, y_train_pred, squared=False)\n",
        "train_r2 = r2_score(y_train, y_train_pred)\n",
        "\n",
        "#tap kiem tra\n",
        "test_mse = mean_squared_error(y_test, y_test_pred)\n",
        "test_rmse = mean_squared_error(y_test, y_test_pred, squared=False)\n",
        "test_r2 = r2_score(y_test, y_test_pred)\n",
        "\n",
        "print(\"Best Parameters:\", grid_search.best_params_)\n",
        "print(\"Tap huan luyen : \")\n",
        "print(\"MSE:\", train_mse)\n",
        "print(\"RMSE:\", train_rmse)\n",
        "print(\"R-squared:\", train_r2)\n",
        "print(\"**************\")\n",
        "print(\"Tap kiem tra: \")\n",
        "print(\"MSE:\", test_mse)\n",
        "print(\"RMSE:\", test_rmse)\n",
        "print(\"R-squared:\", test_r2)\n",
        "\n"
      ],
      "metadata": {
        "colab": {
          "base_uri": "https://localhost:8080/"
        },
        "id": "QWclx8RY4k2F",
        "outputId": "d9b64331-4b3d-4ed8-d936-524fab1e927c"
      },
      "execution_count": null,
      "outputs": [
        {
          "output_type": "stream",
          "name": "stdout",
          "text": [
            "Best Parameters: {'depth': 6, 'iterations': 300, 'learning_rate': 0.05}\n",
            "Tap huan luyen : \n",
            "MSE: 0.005402905361124411\n",
            "RMSE: 0.07350445810373961\n",
            "R-squared: 0.9665378636374486\n",
            "**************\n",
            "Tap kiem tra: \n",
            "MSE: 0.018118948213887882\n",
            "RMSE: 0.1346066425325581\n",
            "R-squared: 0.8803238630358234\n"
          ]
        }
      ]
    },
    {
      "cell_type": "code",
      "source": [
        "import matplotlib.pyplot as plt\n",
        "df_y_pred = pd.DataFrame(y_test_pred, columns=['y_pred'])\n",
        "error = df_y_pred['y_pred'].values - y_test['SalePrice'].values\n",
        "plt.figure(figsize=(12, 6))\n",
        "plt.subplot(1, 2, 1)\n",
        "plt.hist(error, bins=30, edgecolor='k')\n",
        "plt.title('Histogram of y_pred')"
      ],
      "metadata": {
        "colab": {
          "base_uri": "https://localhost:8080/",
          "height": 562
        },
        "id": "T9AXc53E45J5",
        "outputId": "c0b47c6f-dbe6-4fdc-eac8-93780f4b7b7b"
      },
      "execution_count": null,
      "outputs": [
        {
          "output_type": "execute_result",
          "data": {
            "text/plain": [
              "Text(0.5, 1.0, 'Histogram of y_pred')"
            ]
          },
          "metadata": {},
          "execution_count": 14
        },
        {
          "output_type": "display_data",
          "data": {
            "text/plain": [
              "<Figure size 1200x600 with 1 Axes>"
            ],
            "image/png": "[encoded data removed]"
          },
          "metadata": {}
        }
      ]
    },
    {
      "cell_type": "code",
      "source": [
        "import lightgbm as lgb\n",
        "from sklearn.metrics import mean_squared_error, r2_score"
      ],
      "metadata": {
        "id": "uFaN1gcfF2wj"
      },
      "execution_count": null,
      "outputs": []
    },
    {
      "cell_type": "code",
      "source": [
        "train_data = lgb.Dataset(X_train, label=y_train)\n",
        "test_data = lgb.Dataset(X_test, label=y_test, reference=train_data)\n",
        "\n",
        "params = {\n",
        "    'objective': 'regression',\n",
        "    'metric': 'mse',\n",
        "    'boosting type': 'gdbt',\n",
        "    'num_leaves': 31,\n",
        "    'learning_rate': 0.05,\n",
        "    'feature_fraction': 0.9,\n",
        "    'bagging_fraction': 0.8,\n",
        "    'bagging_freq': 5,\n",
        "    'verbose': 0,\n",
        "}\n",
        "\n",
        "\n",
        "gbm = lgb.train(params,\n",
        "                train_data,\n",
        "                num_boost_round=200,\n",
        "                valid_sets=test_data,)\n",
        "\n",
        "\n",
        "\n",
        "y_train_pred = gbm.predict(X_train)\n",
        "y_test_pred_lgb = gbm.predict(X_test)\n",
        "\n",
        "\n",
        "train_mse_lgb = mean_squared_error(y_train, y_train_pred)\n",
        "train_rmse_lgb = mean_squared_error(y_train, y_train_pred, squared=False)\n",
        "train_r2_lgb = r2_score(y_train, y_train_pred)\n",
        "\n",
        "#tap kiem tra\n",
        "test_mse_lgb = mean_squared_error(y_test, y_test_pred)\n",
        "test_rmse_lgb = mean_squared_error(y_test, y_test_pred, squared=False)\n",
        "test_r2_lgb = r2_score(y_test, y_test_pred)\n",
        "\n",
        "print(\"Best Parameters:\", grid_search.best_params_)\n",
        "print(\"Tap huan luyen : \")\n",
        "print(\"MSE:\", train_mse_lgb)\n",
        "print(\"RMSE:\", train_rmse_lgb)\n",
        "print(\"R-squared:\", train_r2_lgb)\n",
        "print(\"**************\")\n",
        "print(\"Tap kiem tra: \")\n",
        "print(\"MSE:\", test_mse_lgb)\n",
        "print(\"RMSE:\", test_rmse_lgb)\n",
        "print(\"R-squared:\", test_r2_lgb)"
      ],
      "metadata": {
        "colab": {
          "base_uri": "https://localhost:8080/"
        },
        "id": "rZ2b7owfDmZD",
        "outputId": "3748950a-f888-4197-e2ab-e5990e0f1eef"
      },
      "execution_count": null,
      "outputs": [
        {
          "output_type": "stream",
          "name": "stdout",
          "text": [
            "[LightGBM] [Warning] Unknown parameter: type\n",
            "[LightGBM] [Warning] Found whitespace in feature_names, replace with underlines\n",
            "[LightGBM] [Warning] Unknown parameter: type\n",
            "[LightGBM] [Warning] Unknown parameter: type\n",
            "[LightGBM] [Warning] Found whitespace in feature_names, replace with underlines\n",
            "Best Parameters: {'depth': 6, 'iterations': 300, 'learning_rate': 0.05}\n",
            "Tap huan luyen : \n",
            "MSE: 0.002415677872277846\n",
            "RMSE: 0.04914954600276432\n",
            "R-squared: 0.9850388380015347\n",
            "**************\n",
            "Tap kiem tra: \n",
            "MSE: 0.017118964955220577\n",
            "RMSE: 0.1308394625303107\n",
            "R-squared: 0.8869287791718728\n"
          ]
        }
      ]
    },
    {
      "cell_type": "code",
      "source": [
        "import matplotlib.pyplot as plt\n",
        "df_y_pred = pd.DataFrame(y_test_pred_lgb, columns=['y_pred'])\n",
        "error = df_y_pred['y_pred'].values - y_test['SalePrice'].values\n",
        "plt.figure(figsize=(12, 6))\n",
        "plt.subplot(1, 2, 1)\n",
        "plt.hist(error, bins=30, edgecolor='k')\n",
        "plt.title('Histogram of y_pred')"
      ],
      "metadata": {
        "colab": {
          "base_uri": "https://localhost:8080/",
          "height": 562
        },
        "id": "2CuyiU6RFujt",
        "outputId": "460a4edc-2181-4622-92be-7c76184aeab6"
      },
      "execution_count": null,
      "outputs": [
        {
          "output_type": "execute_result",
          "data": {
            "text/plain": [
              "Text(0.5, 1.0, 'Histogram of y_pred')"
            ]
          },
          "metadata": {},
          "execution_count": 16
        },
        {
          "output_type": "display_data",
          "data": {
            "text/plain": [
              "<Figure size 1200x600 with 1 Axes>"
            ],
            "image/png": "[encoded data removed]"
          },
          "metadata": {}
        }
      ]
    },
    {
      "cell_type": "code",
      "source": [],
      "metadata": {
        "id": "NN8MMG3emZU0"
      },
      "execution_count": null,
      "outputs": []
    }
  ]
}