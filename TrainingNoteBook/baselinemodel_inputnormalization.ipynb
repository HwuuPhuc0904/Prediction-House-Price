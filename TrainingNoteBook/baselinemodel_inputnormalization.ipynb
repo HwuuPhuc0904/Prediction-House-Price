{
 "cells": [
  {
   "cell_type": "markdown",
   "id": "46495201-c2b8-4d48-b597-9c15ba4413c8",
   "metadata": {},
   "source": [
    "Base line model using linear regression\n"
   ]
  },
  {
   "cell_type": "code",
   "execution_count": 50,
   "id": "6359a10e-ef2c-490d-9c1c-719ca7699ff8",
   "metadata": {
    "tags": []
   },
   "outputs": [],
   "source": [
    "import numpy as np\n",
    "import pandas as pd\n",
    "import os "
   ]
  },
  {
   "cell_type": "code",
   "execution_count": 51,
   "id": "6a57ed76-9d33-4f6b-8331-8b11811da011",
   "metadata": {
    "tags": []
   },
   "outputs": [],
   "source": [
    "x_train = pd.read_csv(r\"D:\\Machine Learning\\Final Project DEADLINE 17-5\\Prediction-House-Price\\Data\\handle data\\X_train.csv\")\n",
    "y_train = pd.read_csv(r\"D:\\Machine Learning\\Final Project DEADLINE 17-5\\Prediction-House-Price\\Data\\handle data\\y_train.csv\")"
   ]
  },
  {
   "cell_type": "code",
   "execution_count": 52,
   "id": "a3f8f139-98d1-4a65-99c8-4ed4c5bd0391",
   "metadata": {
    "tags": []
   },
   "outputs": [],
   "source": [
    "x_train = x_train.drop(columns = ['Id'])"
   ]
  },
  {
   "cell_type": "markdown",
   "id": "755c2aab-503a-4fae-b8c8-fdf344676f58",
   "metadata": {
    "tags": []
   },
   "source": [
    "### input normalization"
   ]
  },
  {
   "cell_type": "code",
   "execution_count": 53,
   "id": "d544b995-79f0-47c8-989f-768e7cb8cbd0",
   "metadata": {
    "tags": []
   },
   "outputs": [
    {
     "data": {
      "text/plain": [
       "array([[2.000e+01, 7.000e+01, 8.400e+03, ..., 0.000e+00, 6.000e+00,\n",
       "        2.010e+03],\n",
       "       [6.000e+01, 5.900e+01, 7.837e+03, ..., 0.000e+00, 5.000e+00,\n",
       "        2.009e+03],\n",
       "       [3.000e+01, 6.700e+01, 8.777e+03, ..., 0.000e+00, 5.000e+00,\n",
       "        2.008e+03],\n",
       "       ...,\n",
       "       [2.000e+01, 6.000e+01, 8.172e+03, ..., 0.000e+00, 4.000e+00,\n",
       "        2.006e+03],\n",
       "       [5.000e+01, 5.500e+01, 7.642e+03, ..., 0.000e+00, 6.000e+00,\n",
       "        2.007e+03],\n",
       "       [1.200e+02, 5.300e+01, 3.684e+03, ..., 0.000e+00, 6.000e+00,\n",
       "        2.009e+03]])"
      ]
     },
     "execution_count": 53,
     "metadata": {},
     "output_type": "execute_result"
    }
   ],
   "source": [
    "from sklearn.preprocessing import StandardScaler\n",
    "\n",
    "scaler = StandardScaler()\n",
    "\n",
    "X_train_scaled = scaler.fit_transform(x_train)\n",
    "X_train"
   ]
  },
  {
   "cell_type": "code",
   "execution_count": 54,
   "id": "a345b428-d488-419d-a29f-8f27281e8597",
   "metadata": {
    "tags": []
   },
   "outputs": [
    {
     "ename": "AttributeError",
     "evalue": "'numpy.ndarray' object has no attribute 'to_numpy'",
     "output_type": "error",
     "traceback": [
      "\u001b[1;31m---------------------------------------------------------------------------\u001b[0m",
      "\u001b[1;31mAttributeError\u001b[0m                            Traceback (most recent call last)",
      "Cell \u001b[1;32mIn[54], line 1\u001b[0m\n\u001b[1;32m----> 1\u001b[0m X_train_scaled \u001b[38;5;241m=\u001b[39m X_train_scaled\u001b[38;5;241m.\u001b[39mto_numpy()\n\u001b[0;32m      2\u001b[0m y_train \u001b[38;5;241m=\u001b[39m y_train\u001b[38;5;241m.\u001b[39mto_numpy()\n\u001b[0;32m      3\u001b[0m y_train\n",
      "\u001b[1;31mAttributeError\u001b[0m: 'numpy.ndarray' object has no attribute 'to_numpy'"
     ]
    }
   ],
   "source": [
    "y_train = y_train.to_numpy()\n",
    "y_train"
   ]
  },
  {
   "cell_type": "code",
   "execution_count": 55,
   "id": "3d536cf4-2b1d-4f48-b47d-e03c689db0d3",
   "metadata": {
    "tags": []
   },
   "outputs": [
    {
     "data": {
      "text/plain": [
       "array([[-0.8667643 ,  0.35953495, -0.21289571, ..., -0.09274033,\n",
       "        -0.13341669,  1.65006527],\n",
       "       [ 0.07410996,  0.04874271, -0.26524463, ..., -0.09274033,\n",
       "        -0.5080097 ,  0.89367742],\n",
       "       [-0.63154574,  0.27477343, -0.17784146, ..., -0.09274033,\n",
       "        -0.5080097 ,  0.13728958],\n",
       "       ...,\n",
       "       [-0.8667643 ,  0.07699655, -0.23409563, ..., -0.09274033,\n",
       "        -0.88260272, -1.37548612],\n",
       "       [-0.16110861, -0.06427265, -0.28337613, ..., -0.09274033,\n",
       "        -0.13341669, -0.61909827],\n",
       "       [ 1.48542135, -0.12078033, -0.65139925, ..., -0.09274033,\n",
       "        -0.13341669,  0.89367742]])"
      ]
     },
     "execution_count": 55,
     "metadata": {},
     "output_type": "execute_result"
    }
   ],
   "source": [
    "X_train_scaled"
   ]
  },
  {
   "cell_type": "code",
   "execution_count": 56,
   "id": "aabda49e-3f01-4484-bc38-63fa3f15ce8d",
   "metadata": {
    "tags": []
   },
   "outputs": [],
   "source": [
    "from sklearn.linear_model import LinearRegression\n",
    "from sklearn.metrics import mean_absolute_error\n",
    "from sklearn.metrics import mean_squared_error"
   ]
  },
  {
   "cell_type": "code",
   "execution_count": 57,
   "id": "2fa761a2-46bf-4125-a41b-65d6b536f2f5",
   "metadata": {
    "tags": []
   },
   "outputs": [],
   "source": [
    "lr_model = LinearRegression().fit(X_train_scaled, y_train)"
   ]
  },
  {
   "cell_type": "code",
   "execution_count": 58,
   "id": "8ccd0605-897a-4347-8aa0-f10db237a838",
   "metadata": {
    "tags": []
   },
   "outputs": [],
   "source": [
    "predict_train = lr_model.predict(X_train_scaled)\n"
   ]
  },
  {
   "cell_type": "code",
   "execution_count": 59,
   "id": "5ce09432-f3c2-42b9-97e6-d4cc4f1337b4",
   "metadata": {
    "tags": []
   },
   "outputs": [
    {
     "data": {
      "text/plain": [
       "17.878337762142028"
      ]
     },
     "execution_count": 59,
     "metadata": {},
     "output_type": "execute_result"
    }
   ],
   "source": [
    "train_error_MAE = mean_absolute_error(predict_train, y_train)/len(predict_train)\n",
    "train_error_MAE"
   ]
  },
  {
   "cell_type": "code",
   "execution_count": 60,
   "id": "d5436493-865f-406e-8c29-6015be9091b8",
   "metadata": {
    "tags": []
   },
   "outputs": [],
   "source": [
    "X_test =  pd.read_csv(r\"D:\\Machine Learning\\Final Project DEADLINE 17-5\\Prediction-House-Price\\Data\\handle data\\X_test.csv\")\n",
    "y_test = pd.read_csv(r\"D:\\Machine Learning\\Final Project DEADLINE 17-5\\Prediction-House-Price\\Data\\handle data\\y_test.csv\")\n",
    "                     "
   ]
  },
  {
   "cell_type": "code",
   "execution_count": 61,
   "id": "46bac28b-757d-4ee8-b0cc-d89e3294a0a9",
   "metadata": {
    "tags": []
   },
   "outputs": [
    {
     "ename": "AttributeError",
     "evalue": "'numpy.ndarray' object has no attribute 'to_numpy'",
     "output_type": "error",
     "traceback": [
      "\u001b[1;31m---------------------------------------------------------------------------\u001b[0m",
      "\u001b[1;31mAttributeError\u001b[0m                            Traceback (most recent call last)",
      "Cell \u001b[1;32mIn[61], line 3\u001b[0m\n\u001b[0;32m      1\u001b[0m X_test \u001b[38;5;241m=\u001b[39m X_test\u001b[38;5;241m.\u001b[39mdrop(columns \u001b[38;5;241m=\u001b[39m [\u001b[38;5;124m'\u001b[39m\u001b[38;5;124mId\u001b[39m\u001b[38;5;124m'\u001b[39m])\n\u001b[0;32m      2\u001b[0m X_test_scaled \u001b[38;5;241m=\u001b[39m scaler\u001b[38;5;241m.\u001b[39mfit_transform(X_test)\n\u001b[1;32m----> 3\u001b[0m X_test_scaled \u001b[38;5;241m=\u001b[39m X_test_scaled\u001b[38;5;241m.\u001b[39mto_numpy()\n\u001b[0;32m      4\u001b[0m y_test \u001b[38;5;241m=\u001b[39m y_test\u001b[38;5;241m.\u001b[39mto_numpy()\n",
      "\u001b[1;31mAttributeError\u001b[0m: 'numpy.ndarray' object has no attribute 'to_numpy'"
     ]
    }
   ],
   "source": [
    "X_test = X_test.drop(columns = ['Id'])\n",
    "X_test_scaled = scaler.fit_transform(X_test)\n",
    "X_test_scaled = X_test_scaled.to_numpy()\n",
    "y_test = y_test.to_numpy()"
   ]
  },
  {
   "cell_type": "code",
   "execution_count": 67,
   "id": "3e3376af-e07a-4cdf-9ce8-baf9d1dd497b",
   "metadata": {
    "tags": []
   },
   "outputs": [
    {
     "data": {
      "text/plain": [
       "array([[-0.89667773,  0.34892664, -0.24021623, ..., -0.15626413,\n",
       "        -1.48022618, -1.33725768],\n",
       "       [ 0.07037637,  1.2384883 ,  0.4136015 , ..., -0.15626413,\n",
       "        -0.77281858,  1.62653163],\n",
       "       [-0.65491421, -0.09585419, -0.14729991, ..., -0.15626413,\n",
       "        -1.12652238,  1.62653163],\n",
       "       ...,\n",
       "       [ 0.07037637,  0.12653623, -0.27680415, ..., -0.15626413,\n",
       "         1.34940422,  0.14463698],\n",
       "       [ 0.31213989,  0.03122605, -0.12619804, ..., -0.15626413,\n",
       "         1.34940422,  0.88558431],\n",
       "       [-0.89667773,  0.34892664, -0.29024809, ..., -0.15626413,\n",
       "         0.28829282,  0.88558431]])"
      ]
     },
     "execution_count": 67,
     "metadata": {},
     "output_type": "execute_result"
    }
   ],
   "source": [
    "X_test_scaled"
   ]
  },
  {
   "cell_type": "code",
   "execution_count": 63,
   "id": "099d7161-566e-40ab-898c-74818e3b2e4e",
   "metadata": {
    "tags": []
   },
   "outputs": [],
   "source": [
    "predict_test = lr_model.predict(X_test_scaled)"
   ]
  },
  {
   "cell_type": "code",
   "execution_count": 70,
   "id": "1d3844f8-327f-43aa-ba02-bdc5d627d134",
   "metadata": {
    "tags": []
   },
   "outputs": [
    {
     "data": {
      "text/plain": [
       "1.722534687060383e+27"
      ]
     },
     "execution_count": 70,
     "metadata": {},
     "output_type": "execute_result"
    }
   ],
   "source": [
    "train_error_MSE = mean_squared_error(predict_test, y_test)/len(predict_test)\n",
    "train_error_MSE"
   ]
  },
  {
   "cell_type": "code",
   "execution_count": 69,
   "id": "368494fd-abf5-4299-98bf-7b3ec58c6114",
   "metadata": {
    "tags": []
   },
   "outputs": [
    {
     "data": {
      "text/plain": [
       "2057573436755.9062"
      ]
     },
     "execution_count": 69,
     "metadata": {},
     "output_type": "execute_result"
    }
   ],
   "source": [
    "test_error_MAE =  mean_absolute_error(predict_test, y_test)/len(predict_test)\n",
    "test_error_MAE"
   ]
  },
  {
   "cell_type": "markdown",
   "id": "708be128-ab05-490e-94ad-b41ce8d20b77",
   "metadata": {},
   "source": [
    "Push lên competition "
   ]
  },
  {
   "cell_type": "code",
   "execution_count": 51,
   "id": "677bad9f-25bb-42f3-a939-c40f7cad3179",
   "metadata": {},
   "outputs": [],
   "source": [
    "test_comp = pd.read_csv(r\"C:\\Users\\longv\\Prediction-House-Price\\Data\\raw data\\test.csv\")"
   ]
  },
  {
   "cell_type": "code",
   "execution_count": 57,
   "id": "9d4706c1-d938-45a5-833d-0ea6d1c0ca71",
   "metadata": {},
   "outputs": [],
   "source": [
    "test_comp = test_comp.fillna(0)\n",
    "test_comp = test_comp.to_numpy()"
   ]
  },
  {
   "cell_type": "code",
   "execution_count": 59,
   "id": "261d280b-27df-4735-a343-495414696a37",
   "metadata": {},
   "outputs": [],
   "source": [
    "predict_comp = lr_model.predict(test_comp)"
   ]
  },
  {
   "cell_type": "code",
   "execution_count": 61,
   "id": "a281a10f-7561-40ac-a92f-825e9a327982",
   "metadata": {},
   "outputs": [],
   "source": [
    "df_test = pd.read_csv(r\"C:\\Users\\longv\\Downloads\\house-prices-advanced-regression-techniques\\test.csv\")"
   ]
  },
  {
   "cell_type": "code",
   "execution_count": 63,
   "id": "4802fff2-5977-4899-890a-82d3ba5e7ef6",
   "metadata": {},
   "outputs": [],
   "source": [
    "df_test['Prediction'] = predict_comp"
   ]
  },
  {
   "cell_type": "code",
   "execution_count": 66,
   "id": "c496709e-89fa-480e-a6c7-7367825bade4",
   "metadata": {},
   "outputs": [],
   "source": [
    "df_test[['Id','Prediction']].to_csv(r\"C:\\Users\\longv\\predict.csv\", index = False)"
   ]
  }
 ],
 "metadata": {
  "kernelspec": {
   "display_name": "Python 3 (ipykernel)",
   "language": "python",
   "name": "python3"
  },
  "language_info": {
   "codemirror_mode": {
    "name": "ipython",
    "version": 3
   },
   "file_extension": ".py",
   "mimetype": "text/x-python",
   "name": "python",
   "nbconvert_exporter": "python",
   "pygments_lexer": "ipython3",
   "version": "3.11.5"
  }
 },
 "nbformat": 4,
 "nbformat_minor": 5
}
