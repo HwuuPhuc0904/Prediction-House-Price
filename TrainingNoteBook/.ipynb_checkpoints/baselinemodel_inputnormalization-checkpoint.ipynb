{
 "cells": [
  {
   "cell_type": "markdown",
   "id": "46495201-c2b8-4d48-b597-9c15ba4413c8",
   "metadata": {},
   "source": [
    "Base line model using linear regression\n"
   ]
  },
  {
   "cell_type": "code",
   "execution_count": 24,
   "id": "6359a10e-ef2c-490d-9c1c-719ca7699ff8",
   "metadata": {},
   "outputs": [],
   "source": [
    "import numpy as np\n",
    "import pandas as pd\n",
    "import os "
   ]
  },
  {
   "cell_type": "code",
   "execution_count": 4,
   "id": "6a57ed76-9d33-4f6b-8331-8b11811da011",
   "metadata": {},
   "outputs": [],
   "source": [
    "x_train = pd.read_csv(r\"C:\\Users\\longv\\Prediction-House-Price\\Data\\handle data\\X_train.csv\")\n",
    "y_train = pd.read_csv(r\"C:\\Users\\longv\\Prediction-House-Price\\Data\\handle data\\y_train.csv\")\n",
    "x_tes"
   ]
  },
  {
   "cell_type": "code",
   "execution_count": 7,
   "id": "a3f8f139-98d1-4a65-99c8-4ed4c5bd0391",
   "metadata": {},
   "outputs": [],
   "source": [
    "x_train = x_train.drop(columns = ['Id'])"
   ]
  },
  {
   "cell_type": "code",
   "execution_count": 26,
   "id": "a345b428-d488-419d-a29f-8f27281e8597",
   "metadata": {},
   "outputs": [
    {
     "data": {
      "text/plain": [
       "array([[145000],\n",
       "       [178000],\n",
       "       [ 85000],\n",
       "       ...,\n",
       "       [115000],\n",
       "       [189950],\n",
       "       [174000]], dtype=int64)"
      ]
     },
     "execution_count": 26,
     "metadata": {},
     "output_type": "execute_result"
    }
   ],
   "source": [
    "X_train = x_train.to_numpy()\n",
    "y_train = y_train.to_numpy()\n",
    "y_train"
   ]
  },
  {
   "cell_type": "code",
   "execution_count": 72,
   "id": "aabda49e-3f01-4484-bc38-63fa3f15ce8d",
   "metadata": {},
   "outputs": [],
   "source": [
    "from sklearn.linear_model import LinearRegression\n",
    "from sklearn.metrics import mean_absolute_error\n",
    "from sklearn.metrics import mean_squared_error"
   ]
  },
  {
   "cell_type": "code",
   "execution_count": 68,
   "id": "2fa761a2-46bf-4125-a41b-65d6b536f2f5",
   "metadata": {},
   "outputs": [],
   "source": [
    "lr_model = LinearRegression().fit(X_train, y_train)"
   ]
  },
  {
   "cell_type": "code",
   "execution_count": 38,
   "id": "8ccd0605-897a-4347-8aa0-f10db237a838",
   "metadata": {},
   "outputs": [],
   "source": [
    "predict_train = lr_model.predict(X_train)\n"
   ]
  },
  {
   "cell_type": "code",
   "execution_count": 41,
   "id": "5ce09432-f3c2-42b9-97e6-d4cc4f1337b4",
   "metadata": {},
   "outputs": [
    {
     "data": {
      "text/plain": [
       "17.877380175902932"
      ]
     },
     "execution_count": 41,
     "metadata": {},
     "output_type": "execute_result"
    }
   ],
   "source": [
    "train_error_MAE = mean_absolute_error(predict_train, y_train)/len(predict_train)\n",
    "train_error_MAE"
   ]
  },
  {
   "cell_type": "code",
   "execution_count": 43,
   "id": "d5436493-865f-406e-8c29-6015be9091b8",
   "metadata": {},
   "outputs": [],
   "source": [
    "X_test =  pd.read_csv(r\"C:\\Users\\longv\\Prediction-House-Price\\Data\\handle data\\X_test.csv\")\n",
    "y_test = pd.read_csv(r\"C:\\Users\\longv\\Prediction-House-Price\\Data\\handle data\\y_test.csv\")\n",
    "                     "
   ]
  },
  {
   "cell_type": "code",
   "execution_count": 46,
   "id": "46bac28b-757d-4ee8-b0cc-d89e3294a0a9",
   "metadata": {},
   "outputs": [],
   "source": [
    "X_test = X_test.drop(columns = ['Id'])\n",
    "X_test = X_test.to_numpy()\n",
    "y_test = y_test.to_numpy()"
   ]
  },
  {
   "cell_type": "code",
   "execution_count": 49,
   "id": "099d7161-566e-40ab-898c-74818e3b2e4e",
   "metadata": {},
   "outputs": [],
   "source": [
    "predict_test = lr_model.predict(X_test)"
   ]
  },
  {
   "cell_type": "code",
   "execution_count": 75,
   "id": "1d3844f8-327f-43aa-ba02-bdc5d627d134",
   "metadata": {},
   "outputs": [
    {
     "data": {
      "text/plain": [
       "4453507.829891652"
      ]
     },
     "execution_count": 75,
     "metadata": {},
     "output_type": "execute_result"
    }
   ],
   "source": [
    "train_error_MSE = mean_squared_error(predict_test, y_test)/len(predict_test)\n",
    "train_error_MSE"
   ]
  },
  {
   "cell_type": "code",
   "execution_count": 50,
   "id": "368494fd-abf5-4299-98bf-7b3ec58c6114",
   "metadata": {},
   "outputs": [
    {
     "data": {
      "text/plain": [
       "75.98284454560694"
      ]
     },
     "execution_count": 50,
     "metadata": {},
     "output_type": "execute_result"
    }
   ],
   "source": [
    "test_error_MAE =  mean_absolute_error(predict_test, y_test)/len(predict_test)\n",
    "test_error_MAE"
   ]
  },
  {
   "cell_type": "markdown",
   "id": "708be128-ab05-490e-94ad-b41ce8d20b77",
   "metadata": {},
   "source": [
    "Push lên competition "
   ]
  },
  {
   "cell_type": "code",
   "execution_count": 51,
   "id": "677bad9f-25bb-42f3-a939-c40f7cad3179",
   "metadata": {},
   "outputs": [],
   "source": [
    "test_comp = pd.read_csv(r\"C:\\Users\\longv\\Prediction-House-Price\\Data\\raw data\\test.csv\")"
   ]
  },
  {
   "cell_type": "code",
   "execution_count": 57,
   "id": "9d4706c1-d938-45a5-833d-0ea6d1c0ca71",
   "metadata": {},
   "outputs": [],
   "source": [
    "test_comp = test_comp.fillna(0)\n",
    "test_comp = test_comp.to_numpy()"
   ]
  },
  {
   "cell_type": "code",
   "execution_count": 59,
   "id": "261d280b-27df-4735-a343-495414696a37",
   "metadata": {},
   "outputs": [],
   "source": [
    "predict_comp = lr_model.predict(test_comp)"
   ]
  },
  {
   "cell_type": "code",
   "execution_count": 61,
   "id": "a281a10f-7561-40ac-a92f-825e9a327982",
   "metadata": {},
   "outputs": [],
   "source": [
    "df_test = pd.read_csv(r\"C:\\Users\\longv\\Downloads\\house-prices-advanced-regression-techniques\\test.csv\")"
   ]
  },
  {
   "cell_type": "code",
   "execution_count": 63,
   "id": "4802fff2-5977-4899-890a-82d3ba5e7ef6",
   "metadata": {},
   "outputs": [],
   "source": [
    "df_test['Prediction'] = predict_comp"
   ]
  },
  {
   "cell_type": "code",
   "execution_count": 66,
   "id": "c496709e-89fa-480e-a6c7-7367825bade4",
   "metadata": {},
   "outputs": [],
   "source": [
    "df_test[['Id','Prediction']].to_csv(r\"C:\\Users\\longv\\predict.csv\", index = False)"
   ]
  }
 ],
 "metadata": {
  "kernelspec": {
   "display_name": "Python 3 (ipykernel)",
   "language": "python",
   "name": "python3"
  },
  "language_info": {
   "codemirror_mode": {
    "name": "ipython",
    "version": 3
   },
   "file_extension": ".py",
   "mimetype": "text/x-python",
   "name": "python",
   "nbconvert_exporter": "python",
   "pygments_lexer": "ipython3",
   "version": "3.11.5"
  }
 },
 "nbformat": 4,
 "nbformat_minor": 5
}
