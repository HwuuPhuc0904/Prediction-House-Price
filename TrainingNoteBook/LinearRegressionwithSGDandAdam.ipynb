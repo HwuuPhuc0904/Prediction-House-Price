{
 "cells": [
  {
   "cell_type": "code",
   "execution_count": 51,
   "id": "67131853-c7f0-4c03-8f67-cbceddf08280",
   "metadata": {},
   "outputs": [],
   "source": [
    "import os\n",
    "import torch\n",
    "import torch.nn as nn\n",
    "import torch.nn.functional as F\n",
    "from torch.autograd import Variable\n",
    "import torch.optim as optim\n",
    "from torch.utils.data import DataLoader, TensorDataset\n",
    "import pandas as pd\n",
    "from sklearn.metrics import mean_absolute_error\n",
    "import numpy as np"
   ]
  },
  {
   "cell_type": "code",
   "execution_count": 52,
   "id": "57134e13-4e06-453a-867d-14bd2f12c3a2",
   "metadata": {},
   "outputs": [],
   "source": [
    "x_train = pd.read_csv(r\"C:\\Users\\longv\\Prediction-House-Price\\Data\\handle data\\X_train.csv\")\n",
    "y_train = pd.read_csv(r\"C:\\Users\\longv\\Prediction-House-Price\\Data\\handle data\\y_train.csv\")\n",
    "x_test = pd.read_csv(r\"C:\\Users\\longv\\Prediction-House-Price\\Data\\handle data\\X_test.csv\")\n",
    "y_test = pd.read_csv(r\"C:\\Users\\longv\\Prediction-House-Price\\Data\\handle data\\y_test.csv\")"
   ]
  },
  {
   "cell_type": "code",
   "execution_count": 53,
   "id": "29bfef28-77f9-483d-bf71-f24bdb1c6f4c",
   "metadata": {
    "scrolled": true
   },
   "outputs": [],
   "source": [
    "x_train = x_train.drop(columns = ['Id'])\n",
    "x_test = x_test.drop(columns = ['Id'])\n",
    "y_train =  np.log1p(y_train)\n",
    "y_test =  np.log1p(y_test)"
   ]
  },
  {
   "cell_type": "code",
   "execution_count": 54,
   "id": "cda55c0f-6007-492c-a8fa-4862edf3c6bf",
   "metadata": {},
   "outputs": [],
   "source": [
    "X_train_tensor = torch.tensor(x_train.values,dtype=torch.float32)\n",
    "y_train_tensor = torch.tensor(y_train.values,dtype=torch.float32)\n",
    "X_test_tensor = torch.tensor(x_test.values, dtype=torch.float32)\n",
    "y_test_tensor = torch.tensor( y_test.values, dtype=torch.float32)\n"
   ]
  },
  {
   "cell_type": "code",
   "execution_count": 55,
   "id": "1de3ac5a-7522-4d63-a605-9c736eac93d6",
   "metadata": {},
   "outputs": [],
   "source": [
    "class LinearRegression(nn.Module):\n",
    "    def __init__(self, input_size):\n",
    "        super(LinearRegression, self).__init__()\n",
    "        self.linear = nn.Linear(input_size, 1)  # 1 output for regression\n",
    "\n",
    "    def forward(self, x):\n",
    "        return self.linear(x)"
   ]
  },
  {
   "cell_type": "code",
   "execution_count": 56,
   "id": "83a3b207-092c-45b9-b5a3-f267d181e1f4",
   "metadata": {},
   "outputs": [],
   "source": [
    "# Define hyperparameters\n",
    "learning_rate = 0.00005\n",
    "epochs = 5000\n",
    "batch_size = 32"
   ]
  },
  {
   "cell_type": "code",
   "execution_count": 57,
   "id": "9c79a8f5-9bb1-4bf5-a9f1-4806b7bc3eb5",
   "metadata": {},
   "outputs": [],
   "source": [
    "# Create DataLoader for batching and shuffling training data\n",
    "train_dataset = TensorDataset(X_train_tensor, y_train_tensor)\n",
    "train_dataloader = DataLoader(train_dataset, batch_size=batch_size, shuffle=True)"
   ]
  },
  {
   "cell_type": "code",
   "execution_count": 58,
   "id": "67ba0ead-0f64-4162-9b4c-341d3df6a404",
   "metadata": {},
   "outputs": [],
   "source": [
    "model = LinearRegression(input_size=X_train_tensor.shape[1])"
   ]
  },
  {
   "cell_type": "code",
   "execution_count": 59,
   "id": "614d2df4-82ed-4838-8d71-eb9b025cb0d6",
   "metadata": {},
   "outputs": [],
   "source": [
    "# Define loss function and optimizer\n",
    "criterion = nn.MSELoss()\n",
    "optimizer = optim.Adam(model.parameters(), lr=learning_rate)"
   ]
  },
  {
   "cell_type": "code",
   "execution_count": 60,
   "id": "e60f4100-b325-4f2a-8217-3369ca38338c",
   "metadata": {},
   "outputs": [
    {
     "name": "stdout",
     "output_type": "stream",
     "text": [
      "Epoch [100/5000], Loss: 47982.8516\n",
      "Epoch [200/5000], Loss: 38501.1719\n",
      "Epoch [300/5000], Loss: 6457.0464\n",
      "Epoch [400/5000], Loss: 337.4960\n",
      "Epoch [500/5000], Loss: 14.7407\n",
      "Epoch [600/5000], Loss: 1.6848\n",
      "Epoch [700/5000], Loss: 0.7410\n",
      "Epoch [800/5000], Loss: 1.3733\n",
      "Epoch [900/5000], Loss: 0.8192\n",
      "Epoch [1000/5000], Loss: 0.5268\n",
      "Epoch [1100/5000], Loss: 0.7897\n",
      "Epoch [1200/5000], Loss: 0.6908\n",
      "Epoch [1300/5000], Loss: 1.0011\n",
      "Epoch [1400/5000], Loss: 0.2844\n",
      "Epoch [1500/5000], Loss: 0.2065\n",
      "Epoch [1600/5000], Loss: 0.1780\n",
      "Epoch [1700/5000], Loss: 0.4125\n",
      "Epoch [1800/5000], Loss: 0.1621\n",
      "Epoch [1900/5000], Loss: 0.1999\n",
      "Epoch [2000/5000], Loss: 0.1367\n",
      "Epoch [2100/5000], Loss: 0.2940\n",
      "Epoch [2200/5000], Loss: 0.1732\n",
      "Epoch [2300/5000], Loss: 0.1712\n",
      "Epoch [2400/5000], Loss: 1.0405\n",
      "Epoch [2500/5000], Loss: 0.0975\n",
      "Epoch [2600/5000], Loss: 0.0926\n",
      "Epoch [2700/5000], Loss: 3.3255\n",
      "Epoch [2800/5000], Loss: 0.1277\n",
      "Epoch [2900/5000], Loss: 0.0667\n",
      "Epoch [3000/5000], Loss: 0.1289\n",
      "Epoch [3100/5000], Loss: 2.3090\n",
      "Epoch [3200/5000], Loss: 0.0843\n",
      "Epoch [3300/5000], Loss: 0.0633\n",
      "Epoch [3400/5000], Loss: 0.1327\n",
      "Epoch [3500/5000], Loss: 0.0275\n",
      "Epoch [3600/5000], Loss: 1.1695\n",
      "Epoch [3700/5000], Loss: 0.0700\n",
      "Epoch [3800/5000], Loss: 0.0899\n",
      "Epoch [3900/5000], Loss: 0.2554\n",
      "Epoch [4000/5000], Loss: 0.0705\n",
      "Epoch [4100/5000], Loss: 0.0604\n",
      "Epoch [4200/5000], Loss: 0.0490\n",
      "Epoch [4300/5000], Loss: 0.0376\n",
      "Epoch [4400/5000], Loss: 0.0522\n",
      "Epoch [4500/5000], Loss: 0.0367\n",
      "Epoch [4600/5000], Loss: 0.2647\n",
      "Epoch [4700/5000], Loss: 0.0828\n",
      "Epoch [4800/5000], Loss: 0.0396\n",
      "Epoch [4900/5000], Loss: 0.0591\n",
      "Epoch [5000/5000], Loss: 0.3019\n"
     ]
    }
   ],
   "source": [
    "for epoch in range(epochs):\n",
    "    for i, (inputs, labels) in enumerate(train_dataloader):\n",
    "        # Forward pass\n",
    "        outputs = model(inputs)\n",
    "        loss = criterion(outputs, labels.view(-1, 1))  # Calculate the loss\n",
    "\n",
    "        # Backward pass and optimization\n",
    "        optimizer.zero_grad()\n",
    "        loss.backward()\n",
    "        optimizer.step()\n",
    "\n",
    "    # Print progress\n",
    "    if (epoch+1) % 100 == 0:\n",
    "        print(f'Epoch [{epoch+1}/{epochs}], Loss: {loss.item():.4f}')"
   ]
  },
  {
   "cell_type": "code",
   "execution_count": 61,
   "id": "2e3da40d-cb1f-4253-a8c8-258f07a34e99",
   "metadata": {},
   "outputs": [
    {
     "name": "stdout",
     "output_type": "stream",
     "text": [
      "Test Loss: 0.0674\n"
     ]
    }
   ],
   "source": [
    "with torch.no_grad():\n",
    "    outputs = model(X_test_tensor)\n",
    "    test_loss = criterion(outputs, y_test_tensor.view(-1, 1))\n",
    "    print(f'Test Loss: {test_loss.item():.4f}')"
   ]
  },
  {
   "cell_type": "code",
   "execution_count": 21,
   "id": "77a46764-9d08-4210-ad29-95dfaba893e6",
   "metadata": {},
   "outputs": [],
   "source": [
    "def returnlossX(tensor):\n",
    "    x = model(tensor)\n",
    "    x = x.detach().numpy()\n",
    "    return np.exp(x)\n",
    "def returnlossY(tensor):\n",
    "    return np.exp(tensor.detach().numpy())"
   ]
  },
  {
   "cell_type": "code",
   "execution_count": 62,
   "id": "8fa82931-a402-4a42-834e-c9de8b50cd4d",
   "metadata": {},
   "outputs": [
    {
     "data": {
      "text/plain": [
       "125.78775149828768"
      ]
     },
     "execution_count": 62,
     "metadata": {},
     "output_type": "execute_result"
    }
   ],
   "source": [
    "mean_absolute_error(returnloss(X_test_tensor) , returnlossY(y_test_tensor))/len(X_test_tensor)"
   ]
  },
  {
   "cell_type": "code",
   "execution_count": 225,
   "id": "543ffe01-2025-4ff3-9416-e13ba795fe14",
   "metadata": {},
   "outputs": [
    {
     "data": {
      "text/plain": [
       "449.5222602739726"
      ]
     },
     "execution_count": 225,
     "metadata": {},
     "output_type": "execute_result"
    }
   ],
   "source": [
    "mean_absolute_error(x,y)/len(x)"
   ]
  },
  {
   "cell_type": "code",
   "execution_count": 43,
   "id": "cb6329f6-a84d-4616-9444-c14eaa217a81",
   "metadata": {},
   "outputs": [],
   "source": [
    "#ko hoi tu => tang chieu model\n",
    "from sklearn.preprocessing import PolynomialFeatures"
   ]
  },
  {
   "cell_type": "code",
   "execution_count": 209,
   "id": "e095ad20-a34a-43d0-90e2-96dffa6786e1",
   "metadata": {},
   "outputs": [],
   "source": [
    "# Polynomial features\n",
    "degree = 1  # Adjust the degree of polynomial features\n",
    "poly = PolynomialFeatures(degree=degree, include_bias=False)"
   ]
  },
  {
   "cell_type": "code",
   "execution_count": 210,
   "id": "48bf88d0-55de-4297-b1de-04a140d8e157",
   "metadata": {},
   "outputs": [],
   "source": [
    "X_train_poly = poly.fit_transform(X_train_tensor.numpy())\n",
    "X_test_poly = poly.transform(X_test_tensor.numpy())"
   ]
  },
  {
   "cell_type": "code",
   "execution_count": 211,
   "id": "3bf82160-a15b-4779-b43d-d7fbac279783",
   "metadata": {},
   "outputs": [],
   "source": [
    "# Convert polynomial features back to PyTorch tensors\n",
    "X_train_poly_tensor = torch.tensor(X_train_poly, dtype=torch.float32)\n",
    "X_test_poly_tensor = torch.tensor(X_test_poly, dtype=torch.float32)"
   ]
  },
  {
   "cell_type": "code",
   "execution_count": 212,
   "id": "6bd06b3a-0772-4b90-9624-903cf735301f",
   "metadata": {},
   "outputs": [],
   "source": [
    "class PolynomialRegression(nn.Module):\n",
    "    def __init__(self, input_size):\n",
    "        super(PolynomialRegression, self).__init__()\n",
    "        self.linear = nn.Linear(input_size, 1)  # 1 output for regression\n",
    "\n",
    "    def forward(self, x):\n",
    "        return self.linear(x)"
   ]
  },
  {
   "cell_type": "code",
   "execution_count": 213,
   "id": "0d21d673-425e-4590-a60c-44d3a7c9d234",
   "metadata": {},
   "outputs": [],
   "source": [
    "train_dataset = TensorDataset(X_train_poly_tensor, y_train_tensor)\n",
    "train_dataloader = DataLoader(train_dataset, batch_size=batch_size, shuffle=True)"
   ]
  },
  {
   "cell_type": "code",
   "execution_count": 214,
   "id": "fdc640a1-3235-4767-a4a5-a0b4270a2d75",
   "metadata": {},
   "outputs": [],
   "source": [
    "# Initialize the model\n",
    "input_size = X_train_poly_tensor.shape[1]\n",
    "model = PolynomialRegression(input_size)"
   ]
  },
  {
   "cell_type": "code",
   "execution_count": 205,
   "id": "5f4db149-146c-4530-a992-3961155a6ed3",
   "metadata": {},
   "outputs": [],
   "source": [
    "# Initialize the model\n",
    "input_size = X_train_poly_tensor.shape[1]\n",
    "model = PolynomialRegression(input_size)"
   ]
  },
  {
   "cell_type": "code",
   "execution_count": 239,
   "id": "8a2b3fcf-1665-4fb9-8de4-6aced41cf8e2",
   "metadata": {},
   "outputs": [],
   "source": [
    "# Define hyperparameters\n",
    "learning_rate = 0.005\n",
    "epochs = 1000\n",
    "batch_size = 32"
   ]
  },
  {
   "cell_type": "code",
   "execution_count": 240,
   "id": "e02608eb-778d-42aa-85eb-ef2249c76b0b",
   "metadata": {},
   "outputs": [],
   "source": [
    "criterion = nn.MSELoss()\n",
    "optimizer = optim.Adam(model.parameters(), lr=learning_rate)"
   ]
  },
  {
   "cell_type": "code",
   "execution_count": 241,
   "id": "12e905ef-3b18-43ad-a2c5-bd1b1a663c1d",
   "metadata": {},
   "outputs": [
    {
     "name": "stdout",
     "output_type": "stream",
     "text": [
      "Epoch [10/1000], Loss: 474519360.0000\n",
      "Epoch [20/1000], Loss: 489586464.0000\n",
      "Epoch [30/1000], Loss: 907730304.0000\n",
      "Epoch [40/1000], Loss: 742585216.0000\n",
      "Epoch [50/1000], Loss: 7032177152.0000\n",
      "Epoch [60/1000], Loss: 611702528.0000\n",
      "Epoch [70/1000], Loss: 8008541696.0000\n",
      "Epoch [80/1000], Loss: 1174912000.0000\n",
      "Epoch [90/1000], Loss: 1524937472.0000\n",
      "Epoch [100/1000], Loss: 2200361728.0000\n",
      "Epoch [110/1000], Loss: 534915904.0000\n",
      "Epoch [120/1000], Loss: 1527717120.0000\n",
      "Epoch [130/1000], Loss: 1682922240.0000\n",
      "Epoch [140/1000], Loss: 1442512768.0000\n",
      "Epoch [150/1000], Loss: 380377152.0000\n",
      "Epoch [160/1000], Loss: 2312164096.0000\n",
      "Epoch [170/1000], Loss: 8431436800.0000\n",
      "Epoch [180/1000], Loss: 21115092992.0000\n",
      "Epoch [190/1000], Loss: 370453760.0000\n",
      "Epoch [200/1000], Loss: 565599488.0000\n",
      "Epoch [210/1000], Loss: 1210945152.0000\n",
      "Epoch [220/1000], Loss: 1996355072.0000\n",
      "Epoch [230/1000], Loss: 1454512640.0000\n",
      "Epoch [240/1000], Loss: 1332801792.0000\n",
      "Epoch [250/1000], Loss: 532034784.0000\n",
      "Epoch [260/1000], Loss: 1149900160.0000\n",
      "Epoch [270/1000], Loss: 261155392.0000\n",
      "Epoch [280/1000], Loss: 340026624.0000\n",
      "Epoch [290/1000], Loss: 787848000.0000\n",
      "Epoch [300/1000], Loss: 1022374208.0000\n",
      "Epoch [310/1000], Loss: 607151040.0000\n",
      "Epoch [320/1000], Loss: 3871567872.0000\n",
      "Epoch [330/1000], Loss: 1339980800.0000\n",
      "Epoch [340/1000], Loss: 1151145728.0000\n",
      "Epoch [350/1000], Loss: 1017966400.0000\n",
      "Epoch [360/1000], Loss: 1458213248.0000\n",
      "Epoch [370/1000], Loss: 1313505536.0000\n",
      "Epoch [380/1000], Loss: 1081895424.0000\n",
      "Epoch [390/1000], Loss: 2024231296.0000\n",
      "Epoch [400/1000], Loss: 1246221312.0000\n",
      "Epoch [410/1000], Loss: 1818605696.0000\n",
      "Epoch [420/1000], Loss: 1317811072.0000\n",
      "Epoch [430/1000], Loss: 1346450560.0000\n",
      "Epoch [440/1000], Loss: 3576393984.0000\n",
      "Epoch [450/1000], Loss: 1098131840.0000\n",
      "Epoch [460/1000], Loss: 528675424.0000\n",
      "Epoch [470/1000], Loss: 1240159872.0000\n",
      "Epoch [480/1000], Loss: 1672223488.0000\n",
      "Epoch [490/1000], Loss: 1136147968.0000\n",
      "Epoch [500/1000], Loss: 433472896.0000\n",
      "Epoch [510/1000], Loss: 833680768.0000\n",
      "Epoch [520/1000], Loss: 962819840.0000\n",
      "Epoch [530/1000], Loss: 1853693696.0000\n",
      "Epoch [540/1000], Loss: 804250624.0000\n",
      "Epoch [550/1000], Loss: 1873619456.0000\n",
      "Epoch [560/1000], Loss: 1912603392.0000\n",
      "Epoch [570/1000], Loss: 895744448.0000\n",
      "Epoch [580/1000], Loss: 1920394624.0000\n",
      "Epoch [590/1000], Loss: 1374438784.0000\n",
      "Epoch [600/1000], Loss: 3144933120.0000\n",
      "Epoch [610/1000], Loss: 484862688.0000\n",
      "Epoch [620/1000], Loss: 795199104.0000\n",
      "Epoch [630/1000], Loss: 829685632.0000\n",
      "Epoch [640/1000], Loss: 567329408.0000\n",
      "Epoch [650/1000], Loss: 1158883712.0000\n",
      "Epoch [660/1000], Loss: 369868256.0000\n",
      "Epoch [670/1000], Loss: 975999104.0000\n",
      "Epoch [680/1000], Loss: 1093174912.0000\n",
      "Epoch [690/1000], Loss: 560959872.0000\n",
      "Epoch [700/1000], Loss: 1448606848.0000\n",
      "Epoch [710/1000], Loss: 19930376192.0000\n",
      "Epoch [720/1000], Loss: 410927104.0000\n",
      "Epoch [730/1000], Loss: 2811699968.0000\n",
      "Epoch [740/1000], Loss: 1290010112.0000\n",
      "Epoch [750/1000], Loss: 704864128.0000\n",
      "Epoch [760/1000], Loss: 520904192.0000\n",
      "Epoch [770/1000], Loss: 404882880.0000\n",
      "Epoch [780/1000], Loss: 451412608.0000\n",
      "Epoch [790/1000], Loss: 1920955136.0000\n",
      "Epoch [800/1000], Loss: 718038272.0000\n",
      "Epoch [810/1000], Loss: 1213079296.0000\n",
      "Epoch [820/1000], Loss: 723293056.0000\n",
      "Epoch [830/1000], Loss: 2112389376.0000\n",
      "Epoch [840/1000], Loss: 460950976.0000\n",
      "Epoch [850/1000], Loss: 289344640.0000\n",
      "Epoch [860/1000], Loss: 8704241664.0000\n",
      "Epoch [870/1000], Loss: 1484850688.0000\n",
      "Epoch [880/1000], Loss: 725281152.0000\n",
      "Epoch [890/1000], Loss: 2621072384.0000\n",
      "Epoch [900/1000], Loss: 2667918592.0000\n",
      "Epoch [910/1000], Loss: 4074159872.0000\n",
      "Epoch [920/1000], Loss: 385331264.0000\n",
      "Epoch [930/1000], Loss: 893496832.0000\n",
      "Epoch [940/1000], Loss: 1328596864.0000\n",
      "Epoch [950/1000], Loss: 325541888.0000\n",
      "Epoch [960/1000], Loss: 1139075072.0000\n",
      "Epoch [970/1000], Loss: 1248333952.0000\n",
      "Epoch [980/1000], Loss: 315900448.0000\n",
      "Epoch [990/1000], Loss: 989128896.0000\n",
      "Epoch [1000/1000], Loss: 711890944.0000\n"
     ]
    }
   ],
   "source": [
    "for epoch in range(epochs):\n",
    "    for inputs, labels in train_dataloader:\n",
    "        # Forward pass\n",
    "        outputs = model(inputs)\n",
    "        loss = criterion(outputs, labels.view(-1, 1))  # Calculate the loss\n",
    "\n",
    "        # Backward pass and optimization\n",
    "        optimizer.zero_grad()\n",
    "        loss.backward()\n",
    "        optimizer.step()\n",
    "\n",
    "    # Print progress\n",
    "    if (epoch+1) % 10 == 0:\n",
    "        print(f'Epoch [{epoch+1}/{epochs}], Loss: {loss.item():.4f}')"
   ]
  },
  {
   "cell_type": "code",
   "execution_count": 243,
   "id": "4b3da824-5394-474f-8b50-869e373443fc",
   "metadata": {},
   "outputs": [
    {
     "name": "stdout",
     "output_type": "stream",
     "text": [
      "Test Loss: 1614659968.0000\n"
     ]
    }
   ],
   "source": [
    "with torch.no_grad():\n",
    "    outputs = model(X_test_poly_tensor)\n",
    "    test_loss = criterion(outputs, y_test_tensor.view(-1, 1))\n",
    "    print(f'Test Loss: {test_loss.item():.4f}')"
   ]
  },
  {
   "cell_type": "code",
   "execution_count": null,
   "id": "1c2e4ba4-4941-4d1b-902c-41e09393a41f",
   "metadata": {},
   "outputs": [],
   "source": []
  }
 ],
 "metadata": {
  "kernelspec": {
   "display_name": "Python 3 (ipykernel)",
   "language": "python",
   "name": "python3"
  },
  "language_info": {
   "codemirror_mode": {
    "name": "ipython",
    "version": 3
   },
   "file_extension": ".py",
   "mimetype": "text/x-python",
   "name": "python",
   "nbconvert_exporter": "python",
   "pygments_lexer": "ipython3",
   "version": "3.11.8"
  }
 },
 "nbformat": 4,
 "nbformat_minor": 5
}
