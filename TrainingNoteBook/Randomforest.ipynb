{
 "cells": [
  {
   "cell_type": "code",
   "execution_count": 1,
   "id": "3483de94-d47d-4062-a9ae-338d075066fb",
   "metadata": {
    "tags": []
   },
   "outputs": [],
   "source": [
    "import numpy as np\n",
    "import pandas as pd\n",
    "import os"
   ]
  },
  {
   "cell_type": "code",
   "execution_count": 3,
   "id": "88841b0c-9436-4d09-871e-c5a81ea9cb5a",
   "metadata": {
    "tags": []
   },
   "outputs": [],
   "source": [
    "from sklearn.preprocessing import StandardScaler, OrdinalEncoder\n",
    "from sklearn.model_selection import train_test_split \n",
    "from sklearn.metrics import mean_squared_error"
   ]
  },
  {
   "cell_type": "code",
   "execution_count": 8,
   "id": "2d93e745-082e-445b-9efc-ceb499838b60",
   "metadata": {
    "tags": []
   },
   "outputs": [],
   "source": [
    "X_train = pd.read_csv(r\"D:\\Machine Learning\\Final Project DEADLINE 17-5\\Prediction-House-Price\\Data\\handle data\\X_train.csv\")\n",
    "y_train = pd.read_csv(r\"D:\\Machine Learning\\Final Project DEADLINE 17-5\\Prediction-House-Price\\Data\\handle data\\y_train.csv\")\n",
    "X_test =  pd.read_csv(r\"D:\\Machine Learning\\Final Project DEADLINE 17-5\\Prediction-House-Price\\Data\\handle data\\X_test.csv\")\n",
    "y_test = pd.read_csv(r\"D:\\Machine Learning\\Final Project DEADLINE 17-5\\Prediction-House-Price\\Data\\handle data\\y_test.csv\")"
   ]
  },
  {
   "cell_type": "code",
   "execution_count": 9,
   "id": "5ec77862-57fe-4885-a46e-f13b00df5309",
   "metadata": {
    "tags": []
   },
   "outputs": [],
   "source": [
    "scaler = StandardScaler()\n",
    "X_train = scaler.fit_transform(X_train)\n",
    "X_test = scaler.fit_transform(X_test)"
   ]
  },
  {
   "cell_type": "code",
   "execution_count": 10,
   "id": "0ae0cd00-0c92-4cb3-9991-4a1442498aba",
   "metadata": {
    "tags": []
   },
   "outputs": [
    {
     "name": "stderr",
     "output_type": "stream",
     "text": [
      "C:\\Users\\lhuup\\anaconda3\\Lib\\site-packages\\sklearn\\base.py:1151: DataConversionWarning: A column-vector y was passed when a 1d array was expected. Please change the shape of y to (n_samples,), for example using ravel().\n",
      "  return fit_method(estimator, *args, **kwargs)\n"
     ]
    }
   ],
   "source": [
    "from sklearn.ensemble import RandomForestRegressor\n",
    "rf = RandomForestRegressor(n_estimators=100, random_state=42)\n",
    "rf.fit(X_train, y_train)\n",
    "y_predr = rf.predict(X_test)"
   ]
  },
  {
   "cell_type": "code",
   "execution_count": 11,
   "id": "51c0b3bd-b7df-48a7-8b2d-1a37a3c8bda2",
   "metadata": {
    "tags": []
   },
   "outputs": [],
   "source": [
    "from sklearn.metrics import mean_absolute_error\n",
    "from sklearn.metrics import mean_squared_error"
   ]
  },
  {
   "cell_type": "code",
   "execution_count": 12,
   "id": "061f8d5b-0835-4ef2-a2e3-1d71faa4b70d",
   "metadata": {
    "tags": []
   },
   "outputs": [
    {
     "data": {
      "text/plain": [
       "64.84801451960968"
      ]
     },
     "execution_count": 12,
     "metadata": {},
     "output_type": "execute_result"
    }
   ],
   "source": [
    "test_error_MAE =  mean_absolute_error(y_predr, y_test)/len(y_predr)\n",
    "test_error_MAE"
   ]
  },
  {
   "cell_type": "code",
   "execution_count": 13,
   "id": "86c24011-73f9-4329-aadc-5c97f7bf8ac6",
   "metadata": {
    "tags": []
   },
   "outputs": [
    {
     "data": {
      "text/plain": [
       "2936551.5844021617"
      ]
     },
     "execution_count": 13,
     "metadata": {},
     "output_type": "execute_result"
    }
   ],
   "source": [
    "train_error_MSE = mean_squared_error(y_predr, y_test)/len(y_predr)\n",
    "train_error_MSE"
   ]
  },
  {
   "cell_type": "code",
   "execution_count": null,
   "id": "fb0a57bb-bb6b-45b1-a961-32a19b33556e",
   "metadata": {},
   "outputs": [],
   "source": []
  }
 ],
 "metadata": {
  "kernelspec": {
   "display_name": "Python 3 (ipykernel)",
   "language": "python",
   "name": "python3"
  },
  "language_info": {
   "codemirror_mode": {
    "name": "ipython",
    "version": 3
   },
   "file_extension": ".py",
   "mimetype": "text/x-python",
   "name": "python",
   "nbconvert_exporter": "python",
   "pygments_lexer": "ipython3",
   "version": "3.11.8"
  }
 },
 "nbformat": 4,
 "nbformat_minor": 5
}
